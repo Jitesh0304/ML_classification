{
 "cells": [
  {
   "cell_type": "code",
   "execution_count": 1,
   "id": "9165f138",
   "metadata": {},
   "outputs": [],
   "source": [
    "import pandas as pd\n",
    "import numpy as np\n",
    "import matplotlib.pyplot as plt\n",
    "import seaborn as sns"
   ]
  },
  {
   "cell_type": "code",
   "execution_count": 2,
   "id": "cb23d913",
   "metadata": {},
   "outputs": [],
   "source": [
    "TOKEN_SPAM_PROB_FILE = 'SpamData/03_Testing/prob-spam.txt'\n",
    "TOKEN_HAM_PROB_FILE = 'SpamData/03_Testing/prob-nonspam.txt'\n",
    "TOKEN_ALL_PROB_FILE = 'SpamData/03_Testing/prob-all-tokens.txt'\n",
    "TEST_FEATURE_MATRIX = 'SpamData/03_Testing/test-features.txt'\n",
    "TEST_TARGET_FILE = 'SpamData/03_Testing/test-target.txt'\n",
    "VOCAB_SIZE = 2500"
   ]
  },
  {
   "cell_type": "code",
   "execution_count": 3,
   "id": "2ed2a5b8",
   "metadata": {},
   "outputs": [],
   "source": [
    "PROB_SPAM = 0.3116"
   ]
  },
  {
   "cell_type": "code",
   "execution_count": 4,
   "id": "aa899f9e",
   "metadata": {},
   "outputs": [],
   "source": [
    "X_test = np.loadtxt(TEST_FEATURE_MATRIX, delimiter=' ')\n",
    "y_test = np.loadtxt(TEST_TARGET_FILE, delimiter=' ')"
   ]
  },
  {
   "cell_type": "code",
   "execution_count": 5,
   "id": "2f6e3219",
   "metadata": {},
   "outputs": [],
   "source": [
    "prob_token_spam = np.loadtxt(TOKEN_SPAM_PROB_FILE, delimiter=' ')\n",
    "prob_token_ham = np.loadtxt(TOKEN_HAM_PROB_FILE, delimiter=' ')\n",
    "prob_all_tokens = np.loadtxt(TOKEN_ALL_PROB_FILE, delimiter=' ')"
   ]
  },
  {
   "cell_type": "code",
   "execution_count": 6,
   "id": "42cfd8fe",
   "metadata": {},
   "outputs": [
    {
     "data": {
      "text/plain": [
       "(1725, 2500)"
      ]
     },
     "execution_count": 6,
     "metadata": {},
     "output_type": "execute_result"
    }
   ],
   "source": [
    "X_test.shape"
   ]
  },
  {
   "cell_type": "code",
   "execution_count": 7,
   "id": "eae7aed7",
   "metadata": {},
   "outputs": [
    {
     "data": {
      "text/plain": [
       "(1725,)"
      ]
     },
     "execution_count": 7,
     "metadata": {},
     "output_type": "execute_result"
    }
   ],
   "source": [
    "y_test.shape"
   ]
  },
  {
   "cell_type": "code",
   "execution_count": 8,
   "id": "adfad33f",
   "metadata": {},
   "outputs": [
    {
     "data": {
      "text/plain": [
       "(2500,)"
      ]
     },
     "execution_count": 8,
     "metadata": {},
     "output_type": "execute_result"
    }
   ],
   "source": [
    "prob_token_spam.shape"
   ]
  },
  {
   "cell_type": "code",
   "execution_count": 9,
   "id": "b2ba2a07",
   "metadata": {},
   "outputs": [
    {
     "data": {
      "text/plain": [
       "(2500,)"
      ]
     },
     "execution_count": 9,
     "metadata": {},
     "output_type": "execute_result"
    }
   ],
   "source": [
    "prob_token_ham.shape"
   ]
  },
  {
   "cell_type": "code",
   "execution_count": 10,
   "id": "fd429ef5",
   "metadata": {},
   "outputs": [
    {
     "data": {
      "text/plain": [
       "(2500,)"
      ]
     },
     "execution_count": 10,
     "metadata": {},
     "output_type": "execute_result"
    }
   ],
   "source": [
    "prob_all_tokens.shape"
   ]
  },
  {
   "cell_type": "code",
   "execution_count": 11,
   "id": "da8b56b7",
   "metadata": {},
   "outputs": [
    {
     "data": {
      "text/plain": [
       "array([0.01219348, 0.00522977, 0.00681828, 0.01130414, 0.00679591])"
      ]
     },
     "execution_count": 11,
     "metadata": {},
     "output_type": "execute_result"
    }
   ],
   "source": [
    "prob_token_spam[:5]"
   ]
  },
  {
   "cell_type": "code",
   "execution_count": 12,
   "id": "60cf0c1f",
   "metadata": {},
   "outputs": [
    {
     "data": {
      "text/plain": [
       "array([0.02099826, 0.01016259, 0.00799468, 0.00365102, 0.00644114])"
      ]
     },
     "execution_count": 12,
     "metadata": {},
     "output_type": "execute_result"
    }
   ],
   "source": [
    "prob_token_ham[:5]"
   ]
  },
  {
   "cell_type": "code",
   "execution_count": 13,
   "id": "b1c1b5cf",
   "metadata": {},
   "outputs": [
    {
     "data": {
      "text/plain": [
       "array([0.01757161, 0.00822213, 0.00759324, 0.00687585, 0.00665923])"
      ]
     },
     "execution_count": 13,
     "metadata": {},
     "output_type": "execute_result"
    }
   ],
   "source": [
    "prob_all_tokens[:5]"
   ]
  },
  {
   "cell_type": "code",
   "execution_count": 14,
   "id": "abace818",
   "metadata": {},
   "outputs": [
    {
     "data": {
      "text/plain": [
       "(1725,)"
      ]
     },
     "execution_count": 14,
     "metadata": {},
     "output_type": "execute_result"
    }
   ],
   "source": [
    "X_test.dot(prob_token_spam).shape"
   ]
  },
  {
   "cell_type": "markdown",
   "id": "f9b059f0",
   "metadata": {},
   "source": [
    "### $$ P(Spam|loan) = \\frac{P(loan|Spam)P(Spam)}{P(loan)} $$\n",
    "### $$ log\\frac{a}{b} = log.a - log.b $$\n",
    "### $$ P(Ham) = (1 - P(Spam)) $$\n",
    "### $$ P(Spam) = (1 - P(Ham)) $$\n",
    "### $$ P(Spam|Token) = X_.test\\frac{P(Token|Spam)P(Spam)}{P(Token)} $$\n",
    "### $$ P(Ham|Token) = X_.test\\frac{P(Token|Ham)(1-P(Spam))}{P(Token)} $$"
   ]
  },
  {
   "cell_type": "code",
   "execution_count": 15,
   "id": "799a5a70",
   "metadata": {},
   "outputs": [
    {
     "data": {
      "text/plain": [
       "array([-4.4068535 , -5.25338712, -4.98814752, -4.48258593, -4.9914343 ])"
      ]
     },
     "execution_count": 15,
     "metadata": {},
     "output_type": "execute_result"
    }
   ],
   "source": [
    "np.log(prob_token_spam)[0:5]"
   ]
  },
  {
   "cell_type": "code",
   "execution_count": 16,
   "id": "31fc0688",
   "metadata": {},
   "outputs": [
    {
     "data": {
      "text/plain": [
       "array([-3.86331577, -4.58904159, -4.8289792 , -5.6127486 , -5.04505042])"
      ]
     },
     "execution_count": 16,
     "metadata": {},
     "output_type": "execute_result"
    }
   ],
   "source": [
    "np.log(prob_token_ham)[0:5]"
   ]
  },
  {
   "cell_type": "code",
   "execution_count": 17,
   "id": "dceb59b9",
   "metadata": {},
   "outputs": [
    {
     "data": {
      "text/plain": [
       "array([-4.04147098, -4.80092565, -4.88049633, -4.97974062, -5.01175161])"
      ]
     },
     "execution_count": 17,
     "metadata": {},
     "output_type": "execute_result"
    }
   ],
   "source": [
    "np.log(prob_all_tokens)[0:5]"
   ]
  },
  {
   "cell_type": "markdown",
   "id": "2d048321",
   "metadata": {},
   "source": [
    "### $$ P(Spam|Token) = X_.test\\frac{P(Token|Spam)P(Spam)}{P(Token)} $$\n",
    "### $$ P(Ham|Token) = X_.test\\frac{P(Token|Ham)(1-P(Spam))}{P(Token)} $$"
   ]
  },
  {
   "cell_type": "code",
   "execution_count": 18,
   "id": "2e6a460c",
   "metadata": {},
   "outputs": [],
   "source": [
    "joint_log_spam = X_test.dot(np.log(prob_token_spam)-np.log(prob_all_tokens)) + np.log(PROB_SPAM)"
   ]
  },
  {
   "cell_type": "code",
   "execution_count": 19,
   "id": "cd40fc8e",
   "metadata": {},
   "outputs": [],
   "source": [
    "joint_log_ham = X_test.dot(np.log(prob_token_ham) - np.log(prob_all_tokens))  + np.log(1-PROB_SPAM)"
   ]
  },
  {
   "cell_type": "code",
   "execution_count": 20,
   "id": "7703eacc",
   "metadata": {},
   "outputs": [
    {
     "data": {
      "text/plain": [
       "(1725,)"
      ]
     },
     "execution_count": 20,
     "metadata": {},
     "output_type": "execute_result"
    }
   ],
   "source": [
    "joint_log_ham.shape"
   ]
  },
  {
   "cell_type": "code",
   "execution_count": 21,
   "id": "ffbb7bd6",
   "metadata": {},
   "outputs": [
    {
     "data": {
      "text/plain": [
       "(1725,)"
      ]
     },
     "execution_count": 21,
     "metadata": {},
     "output_type": "execute_result"
    }
   ],
   "source": [
    "joint_log_spam.shape"
   ]
  },
  {
   "cell_type": "code",
   "execution_count": 22,
   "id": "715cfb5a",
   "metadata": {},
   "outputs": [
    {
     "data": {
      "text/plain": [
       "array([-5.96022264e+01, -1.14070650e+01, -3.77291343e+01, -5.80234733e+01,\n",
       "       -5.26699596e+01, -7.32069968e+00, -5.42201630e+01, -1.14070650e+01,\n",
       "       -3.81061110e+01,  2.16060494e-02])"
      ]
     },
     "execution_count": 22,
     "metadata": {},
     "output_type": "execute_result"
    }
   ],
   "source": [
    "joint_log_ham[:10]"
   ]
  },
  {
   "cell_type": "code",
   "execution_count": 23,
   "id": "52131ad4",
   "metadata": {},
   "outputs": [
    {
     "data": {
      "text/plain": [
       "array([  23.22357826,    2.52767155,   20.84808352,   18.09750574,\n",
       "         21.54445265,  -12.23953487,   27.80735438,    2.52767155,\n",
       "         13.65662269, -121.29703177])"
      ]
     },
     "execution_count": 23,
     "metadata": {},
     "output_type": "execute_result"
    }
   ],
   "source": [
    "joint_log_spam[:10]"
   ]
  },
  {
   "cell_type": "code",
   "execution_count": 24,
   "id": "fdccb5b9",
   "metadata": {},
   "outputs": [],
   "source": [
    "prediction=joint_log_spam > joint_log_ham"
   ]
  },
  {
   "cell_type": "code",
   "execution_count": 25,
   "id": "1f047170",
   "metadata": {},
   "outputs": [
    {
     "data": {
      "text/plain": [
       "array([ True,  True,  True,  True,  True, False,  True,  True,  True,\n",
       "       False])"
      ]
     },
     "execution_count": 25,
     "metadata": {},
     "output_type": "execute_result"
    }
   ],
   "source": [
    "prediction[:10]"
   ]
  },
  {
   "cell_type": "code",
   "execution_count": 26,
   "id": "535295ab",
   "metadata": {},
   "outputs": [
    {
     "data": {
      "text/plain": [
       "array([1, 1, 1, 1, 1, 0, 1, 1, 1, 0])"
      ]
     },
     "execution_count": 26,
     "metadata": {},
     "output_type": "execute_result"
    }
   ],
   "source": [
    "prediction[:10]*1"
   ]
  },
  {
   "cell_type": "code",
   "execution_count": 27,
   "id": "d8edc2e6",
   "metadata": {},
   "outputs": [
    {
     "data": {
      "text/plain": [
       "array([1., 1., 1., 1., 1., 1., 1., 1., 1., 1.])"
      ]
     },
     "execution_count": 27,
     "metadata": {},
     "output_type": "execute_result"
    }
   ],
   "source": [
    "y_test[:10]"
   ]
  },
  {
   "cell_type": "code",
   "execution_count": 28,
   "id": "66f57bcb",
   "metadata": {},
   "outputs": [],
   "source": [
    "joint_log_spam = X_test.dot(np.log(prob_token_spam)) + np.log(PROB_SPAM)\n",
    "joint_log_ham = X_test.dot(np.log(prob_token_ham)) + np.log(1-PROB_SPAM)"
   ]
  },
  {
   "cell_type": "code",
   "execution_count": 29,
   "id": "de5d25ed",
   "metadata": {},
   "outputs": [
    {
     "data": {
      "text/plain": [
       "array([-1220.38172233,  -262.93024035,  -411.47250037, -1472.99563996,\n",
       "       -1239.77221247,  -356.95678463,  -540.10398534,  -262.93024035,\n",
       "        -571.67141091, -2173.27554574])"
      ]
     },
     "execution_count": 29,
     "metadata": {},
     "output_type": "execute_result"
    }
   ],
   "source": [
    "joint_log_spam[:10]"
   ]
  },
  {
   "cell_type": "code",
   "execution_count": 30,
   "id": "79ec737d",
   "metadata": {},
   "outputs": [
    {
     "data": {
      "text/plain": [
       "array([-1303.20752698,  -276.86497688,  -470.04971822, -1549.11661904,\n",
       "       -1313.98662477,  -352.03794944,  -622.13150276,  -276.86497688,\n",
       "        -623.43414461, -2051.95690792])"
      ]
     },
     "execution_count": 30,
     "metadata": {},
     "output_type": "execute_result"
    }
   ],
   "source": [
    "joint_log_ham[:10]"
   ]
  },
  {
   "cell_type": "code",
   "execution_count": 31,
   "id": "efc7dbd8",
   "metadata": {},
   "outputs": [],
   "source": [
    "prediction = joint_log_spam > joint_log_ham"
   ]
  },
  {
   "cell_type": "code",
   "execution_count": 32,
   "id": "ec627a85",
   "metadata": {},
   "outputs": [
    {
     "data": {
      "text/plain": [
       "array([ True,  True,  True,  True,  True, False,  True,  True,  True,\n",
       "       False])"
      ]
     },
     "execution_count": 32,
     "metadata": {},
     "output_type": "execute_result"
    }
   ],
   "source": [
    "prediction[:10]"
   ]
  },
  {
   "cell_type": "code",
   "execution_count": 33,
   "id": "9c49d4f0",
   "metadata": {},
   "outputs": [
    {
     "data": {
      "text/plain": [
       "array([1, 1, 1, 1, 1, 0, 1, 1, 1, 0])"
      ]
     },
     "execution_count": 33,
     "metadata": {},
     "output_type": "execute_result"
    }
   ],
   "source": [
    "prediction[:10]*1"
   ]
  },
  {
   "cell_type": "code",
   "execution_count": 34,
   "id": "a4fec2d4",
   "metadata": {},
   "outputs": [
    {
     "data": {
      "text/plain": [
       "array([1., 1., 1., 1., 1., 1., 1., 1., 1., 1.])"
      ]
     },
     "execution_count": 34,
     "metadata": {},
     "output_type": "execute_result"
    }
   ],
   "source": [
    "y_test[:10]"
   ]
  },
  {
   "cell_type": "markdown",
   "id": "d7c4be90",
   "metadata": {},
   "source": [
    "### Metrics and Evaluation"
   ]
  },
  {
   "cell_type": "code",
   "execution_count": 35,
   "id": "481aae60",
   "metadata": {},
   "outputs": [
    {
     "data": {
      "text/plain": [
       "1683"
      ]
     },
     "execution_count": 35,
     "metadata": {},
     "output_type": "execute_result"
    }
   ],
   "source": [
    "correct_docs=(y_test == prediction).sum()\n",
    "correct_docs"
   ]
  },
  {
   "cell_type": "code",
   "execution_count": 36,
   "id": "2078e2d5",
   "metadata": {},
   "outputs": [
    {
     "data": {
      "text/plain": [
       "42"
      ]
     },
     "execution_count": 36,
     "metadata": {},
     "output_type": "execute_result"
    }
   ],
   "source": [
    "numdocs_wrong =(y_test != prediction).sum()\n",
    "numdocs_wrong"
   ]
  },
  {
   "cell_type": "code",
   "execution_count": 37,
   "id": "e839e0e9",
   "metadata": {},
   "outputs": [
    {
     "data": {
      "text/plain": [
       "1725"
      ]
     },
     "execution_count": 37,
     "metadata": {},
     "output_type": "execute_result"
    }
   ],
   "source": [
    "correct_docs+numdocs_wrong"
   ]
  },
  {
   "cell_type": "code",
   "execution_count": 38,
   "id": "544925e3",
   "metadata": {},
   "outputs": [
    {
     "data": {
      "text/plain": [
       "98.0"
      ]
     },
     "execution_count": 38,
     "metadata": {},
     "output_type": "execute_result"
    }
   ],
   "source": [
    "round(correct_docs/len(X_test),2)*100"
   ]
  },
  {
   "cell_type": "code",
   "execution_count": 39,
   "id": "fdc493a1",
   "metadata": {},
   "outputs": [
    {
     "data": {
      "text/plain": [
       "2.0"
      ]
     },
     "execution_count": 39,
     "metadata": {},
     "output_type": "execute_result"
    }
   ],
   "source": [
    "round(numdocs_wrong/len(X_test),2)*100\n"
   ]
  },
  {
   "cell_type": "code",
   "execution_count": 40,
   "id": "7be14736",
   "metadata": {},
   "outputs": [],
   "source": [
    "# Plotting....Styling\n",
    "yaxis_label = 'P(X | Spam)'\n",
    "xaxis_label = 'P(X | Nonspam)'\n",
    "labels = 'Actual Category'"
   ]
  },
  {
   "cell_type": "code",
   "execution_count": 41,
   "id": "9dbad29c",
   "metadata": {},
   "outputs": [
    {
     "data": {
      "image/png": "[encoded data removed]",
      "text/plain": [
       "<Figure size 792x504 with 1 Axes>"
      ]
     },
     "metadata": {
      "needs_background": "light"
     },
     "output_type": "display_data"
    }
   ],
   "source": [
    "plt.figure(figsize=(11, 7))\n",
    "plt.xlabel(xaxis_label, fontsize=20)\n",
    "plt.ylabel(yaxis_label, fontsize=20)\n",
    "plt.scatter(joint_log_ham, joint_log_spam, color='brown')\n",
    "plt.show()"
   ]
  },
  {
   "cell_type": "code",
   "execution_count": 42,
   "id": "7ea26e3f",
   "metadata": {},
   "outputs": [],
   "source": [
    "linedata = np.linspace(start=-2000, stop=25, num=1000)"
   ]
  },
  {
   "cell_type": "code",
   "execution_count": 43,
   "id": "e8eec637",
   "metadata": {},
   "outputs": [
    {
     "data": {
      "image/png": "[encoded data removed]",
      "text/plain": [
       "<Figure size 792x648 with 1 Axes>"
      ]
     },
     "metadata": {
      "needs_background": "light"
     },
     "output_type": "display_data"
    }
   ],
   "source": [
    "plt.figure(figsize=(11, 9))\n",
    "plt.xlim([-2000, 25])\n",
    "plt.ylim([-2000, 25])\n",
    "plt.xlabel(xaxis_label, fontsize=20)\n",
    "plt.ylabel(yaxis_label, fontsize=20)\n",
    "plt.plot(linedata, linedata, color ='red')\n",
    "plt.scatter(joint_log_ham, joint_log_spam, color='navy', alpha = 0.2, s = 25)\n",
    "plt.show()"
   ]
  },
  {
   "cell_type": "code",
   "execution_count": 44,
   "id": "5627e201",
   "metadata": {},
   "outputs": [],
   "source": [
    "# .....going to sns..."
   ]
  },
  {
   "cell_type": "code",
   "execution_count": 45,
   "id": "a5ba43d3",
   "metadata": {},
   "outputs": [],
   "source": [
    "sns.set_style('whitegrid')"
   ]
  },
  {
   "cell_type": "code",
   "execution_count": 46,
   "id": "cb7e63f0",
   "metadata": {},
   "outputs": [
    {
     "data": {
      "text/html": [
       "<div>\n",
       "<style scoped>\n",
       "    .dataframe tbody tr th:only-of-type {\n",
       "        vertical-align: middle;\n",
       "    }\n",
       "\n",
       "    .dataframe tbody tr th {\n",
       "        vertical-align: top;\n",
       "    }\n",
       "\n",
       "    .dataframe thead th {\n",
       "        text-align: right;\n",
       "    }\n",
       "</style>\n",
       "<table border=\"1\" class=\"dataframe\">\n",
       "  <thead>\n",
       "    <tr style=\"text-align: right;\">\n",
       "      <th></th>\n",
       "      <th>P(X | Spam)</th>\n",
       "      <th>P(X | Nonspam)</th>\n",
       "      <th>Actual Category</th>\n",
       "    </tr>\n",
       "  </thead>\n",
       "  <tbody>\n",
       "    <tr>\n",
       "      <th>0</th>\n",
       "      <td>-1220.381722</td>\n",
       "      <td>-1303.207527</td>\n",
       "      <td>1.0</td>\n",
       "    </tr>\n",
       "    <tr>\n",
       "      <th>1</th>\n",
       "      <td>-262.930240</td>\n",
       "      <td>-276.864977</td>\n",
       "      <td>1.0</td>\n",
       "    </tr>\n",
       "    <tr>\n",
       "      <th>2</th>\n",
       "      <td>-411.472500</td>\n",
       "      <td>-470.049718</td>\n",
       "      <td>1.0</td>\n",
       "    </tr>\n",
       "    <tr>\n",
       "      <th>3</th>\n",
       "      <td>-1472.995640</td>\n",
       "      <td>-1549.116619</td>\n",
       "      <td>1.0</td>\n",
       "    </tr>\n",
       "    <tr>\n",
       "      <th>4</th>\n",
       "      <td>-1239.772212</td>\n",
       "      <td>-1313.986625</td>\n",
       "      <td>1.0</td>\n",
       "    </tr>\n",
       "    <tr>\n",
       "      <th>...</th>\n",
       "      <td>...</td>\n",
       "      <td>...</td>\n",
       "      <td>...</td>\n",
       "    </tr>\n",
       "    <tr>\n",
       "      <th>1720</th>\n",
       "      <td>-431.900919</td>\n",
       "      <td>-400.467769</td>\n",
       "      <td>0.0</td>\n",
       "    </tr>\n",
       "    <tr>\n",
       "      <th>1721</th>\n",
       "      <td>-1998.848613</td>\n",
       "      <td>-2104.128585</td>\n",
       "      <td>0.0</td>\n",
       "    </tr>\n",
       "    <tr>\n",
       "      <th>1722</th>\n",
       "      <td>-875.971110</td>\n",
       "      <td>-787.160598</td>\n",
       "      <td>0.0</td>\n",
       "    </tr>\n",
       "    <tr>\n",
       "      <th>1723</th>\n",
       "      <td>-4803.476166</td>\n",
       "      <td>-4396.617777</td>\n",
       "      <td>0.0</td>\n",
       "    </tr>\n",
       "    <tr>\n",
       "      <th>1724</th>\n",
       "      <td>-544.820648</td>\n",
       "      <td>-495.442937</td>\n",
       "      <td>0.0</td>\n",
       "    </tr>\n",
       "  </tbody>\n",
       "</table>\n",
       "<p>1725 rows × 3 columns</p>\n",
       "</div>"
      ],
      "text/plain": [
       "      P(X | Spam)  P(X | Nonspam)  Actual Category\n",
       "0    -1220.381722    -1303.207527              1.0\n",
       "1     -262.930240     -276.864977              1.0\n",
       "2     -411.472500     -470.049718              1.0\n",
       "3    -1472.995640    -1549.116619              1.0\n",
       "4    -1239.772212    -1313.986625              1.0\n",
       "...           ...             ...              ...\n",
       "1720  -431.900919     -400.467769              0.0\n",
       "1721 -1998.848613    -2104.128585              0.0\n",
       "1722  -875.971110     -787.160598              0.0\n",
       "1723 -4803.476166    -4396.617777              0.0\n",
       "1724  -544.820648     -495.442937              0.0\n",
       "\n",
       "[1725 rows x 3 columns]"
      ]
     },
     "execution_count": 46,
     "metadata": {},
     "output_type": "execute_result"
    }
   ],
   "source": [
    "summary_df=pd.DataFrame({yaxis_label: joint_log_spam, xaxis_label: joint_log_ham, labels:y_test})\n",
    "summary_df"
   ]
  },
  {
   "cell_type": "code",
   "execution_count": 47,
   "id": "0d2088e4",
   "metadata": {},
   "outputs": [
    {
     "data": {
      "image/png": "[encoded data removed]",
      "text/plain": [
       "<Figure size 468x468 with 1 Axes>"
      ]
     },
     "metadata": {},
     "output_type": "display_data"
    }
   ],
   "source": [
    "sns.lmplot(x = xaxis_label, y = yaxis_label, data = summary_df, fit_reg = False, height = 6.5, hue=labels,\n",
    "          \n",
    "          markers = ['o', 'x'],legend = False, scatter_kws={'alpha' : 0.7, 's' : 50})\n",
    "\n",
    "plt.xlabel(xaxis_label, fontsize=20)\n",
    "plt.ylabel(yaxis_label, fontsize=20)\n",
    "plt.xlim([-100, 0])\n",
    "plt.ylim([-100, 0])\n",
    "plt.plot(linedata, linedata, color = 'green')\n",
    "\n",
    "plt.legend(('Decision Boundary', 'NonSpam', 'Spam'), loc = 'lower right', fontsize = 15)\n",
    "\n",
    "plt.show()"
   ]
  },
  {
   "cell_type": "code",
   "execution_count": 48,
   "id": "58e68059",
   "metadata": {},
   "outputs": [],
   "source": [
    "# False positives and negatives...etc..."
   ]
  },
  {
   "cell_type": "code",
   "execution_count": 49,
   "id": "9850fde5",
   "metadata": {},
   "outputs": [
    {
     "data": {
      "text/plain": [
       "(1725,)"
      ]
     },
     "execution_count": 49,
     "metadata": {},
     "output_type": "execute_result"
    }
   ],
   "source": [
    "prediction.shape\n"
   ]
  },
  {
   "cell_type": "code",
   "execution_count": 50,
   "id": "2f4bf60e",
   "metadata": {},
   "outputs": [
    {
     "data": {
      "text/plain": [
       "(array([False,  True]), array([1159,  566], dtype=int64))"
      ]
     },
     "execution_count": 50,
     "metadata": {},
     "output_type": "execute_result"
    }
   ],
   "source": [
    "np.unique(prediction, return_counts = True)"
   ]
  },
  {
   "cell_type": "code",
   "execution_count": 51,
   "id": "5cd6537c",
   "metadata": {},
   "outputs": [
    {
     "data": {
      "text/plain": [
       "557"
      ]
     },
     "execution_count": 51,
     "metadata": {},
     "output_type": "execute_result"
    }
   ],
   "source": [
    "true_pos = (y_test ==1) & (prediction ==1)\n",
    "true_pos.sum()"
   ]
  },
  {
   "cell_type": "code",
   "execution_count": 52,
   "id": "05dad55c",
   "metadata": {},
   "outputs": [
    {
     "data": {
      "text/plain": [
       "9"
      ]
     },
     "execution_count": 52,
     "metadata": {},
     "output_type": "execute_result"
    }
   ],
   "source": [
    "false_pos = (y_test ==0) & (prediction ==1)\n",
    "false_pos.sum()"
   ]
  },
  {
   "cell_type": "code",
   "execution_count": 53,
   "id": "1247ddac",
   "metadata": {},
   "outputs": [
    {
     "data": {
      "text/plain": [
       "1126"
      ]
     },
     "execution_count": 53,
     "metadata": {},
     "output_type": "execute_result"
    }
   ],
   "source": [
    "true_neg = (y_test ==0) & (prediction ==0)\n",
    "true_neg.sum()"
   ]
  },
  {
   "cell_type": "code",
   "execution_count": 54,
   "id": "86cb72c4",
   "metadata": {},
   "outputs": [
    {
     "data": {
      "text/plain": [
       "33"
      ]
     },
     "execution_count": 54,
     "metadata": {},
     "output_type": "execute_result"
    }
   ],
   "source": [
    "false_neg = (y_test == 1) & (prediction == 0)\n",
    "false_neg.sum()"
   ]
  },
  {
   "cell_type": "code",
   "execution_count": 55,
   "id": "3aee0640",
   "metadata": {},
   "outputs": [
    {
     "data": {
      "text/plain": [
       "0.9440677966101695"
      ]
     },
     "execution_count": 55,
     "metadata": {},
     "output_type": "execute_result"
    }
   ],
   "source": [
    "# Recall_score: helps when cost of false negatives are high....\n",
    "recall_score = true_pos.sum() / (true_pos.sum() + false_neg.sum())\n",
    "recall_score"
   ]
  },
  {
   "cell_type": "code",
   "execution_count": 56,
   "id": "a5399531",
   "metadata": {},
   "outputs": [
    {
     "data": {
      "text/plain": [
       "0.9840989399293286"
      ]
     },
     "execution_count": 56,
     "metadata": {},
     "output_type": "execute_result"
    }
   ],
   "source": [
    "# Precision_score: helps when the cost of false positives are high...\n",
    "precision_score = true_pos.sum() / (true_pos.sum() + false_pos.sum())\n",
    "precision_score"
   ]
  },
  {
   "cell_type": "code",
   "execution_count": 57,
   "id": "b19b346b",
   "metadata": {},
   "outputs": [
    {
     "data": {
      "text/plain": [
       "0.9636678200692042"
      ]
     },
     "execution_count": 57,
     "metadata": {},
     "output_type": "execute_result"
    }
   ],
   "source": [
    "# f1 score or the fscore:\n",
    "# f1 is an overall measure of a model’s accuracy that combines precision and recall\n",
    "f1_score = 2 * (precision_score * recall_score) / (precision_score + recall_score)\n",
    "f1_score"
   ]
  },
  {
   "cell_type": "code",
   "execution_count": null,
   "id": "0ce14b94",
   "metadata": {},
   "outputs": [],
   "source": []
  }
 ],
 "metadata": {
  "kernelspec": {
   "display_name": "Python 3 (ipykernel)",
   "language": "python",
   "name": "python3"
  },
  "language_info": {
   "codemirror_mode": {
    "name": "ipython",
    "version": 3
   },
   "file_extension": ".py",
   "mimetype": "text/x-python",
   "name": "python",
   "nbconvert_exporter": "python",
   "pygments_lexer": "ipython3",
   "version": "3.9.12"
  }
 },
 "nbformat": 4,
 "nbformat_minor": 5
}
