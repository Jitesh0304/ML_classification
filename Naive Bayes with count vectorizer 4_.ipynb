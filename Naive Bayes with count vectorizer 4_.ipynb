{
 "cells": [
  {
   "cell_type": "code",
   "execution_count": 1,
   "id": "2a625211",
   "metadata": {},
   "outputs": [],
   "source": [
    "import pandas as pd\n",
    "import numpy as np\n",
    "from sklearn.feature_extraction.text import CountVectorizer"
   ]
  },
  {
   "cell_type": "code",
   "execution_count": 15,
   "id": "313eca49",
   "metadata": {},
   "outputs": [],
   "source": [
    "DATA_JSON_FILE = 'SpamData/01_Processing/email-text-data.json'"
   ]
  },
  {
   "cell_type": "code",
   "execution_count": 16,
   "id": "8d90788f",
   "metadata": {},
   "outputs": [],
   "source": [
    "data = pd.read_json(DATA_JSON_FILE)"
   ]
  },
  {
   "cell_type": "code",
   "execution_count": 17,
   "id": "90e9c147",
   "metadata": {},
   "outputs": [
    {
     "data": {
      "text/html": [
       "<div>\n",
       "<style scoped>\n",
       "    .dataframe tbody tr th:only-of-type {\n",
       "        vertical-align: middle;\n",
       "    }\n",
       "\n",
       "    .dataframe tbody tr th {\n",
       "        vertical-align: top;\n",
       "    }\n",
       "\n",
       "    .dataframe thead th {\n",
       "        text-align: right;\n",
       "    }\n",
       "</style>\n",
       "<table border=\"1\" class=\"dataframe\">\n",
       "  <thead>\n",
       "    <tr style=\"text-align: right;\">\n",
       "      <th></th>\n",
       "      <th>MESSAGE</th>\n",
       "      <th>CATEGORY</th>\n",
       "      <th>FILE_NAME</th>\n",
       "    </tr>\n",
       "  </thead>\n",
       "  <tbody>\n",
       "    <tr>\n",
       "      <th>0</th>\n",
       "      <td>&lt;!DOCTYPE HTML PUBLIC \"-//W3C//DTD HTML 4.0 Tr...</td>\n",
       "      <td>1</td>\n",
       "      <td>00001.7848dde101aa985090474a91ec93fcf0</td>\n",
       "    </tr>\n",
       "    <tr>\n",
       "      <th>1</th>\n",
       "      <td>1) Fight The Risk of Cancer!\\n\\nhttp://www.adc...</td>\n",
       "      <td>1</td>\n",
       "      <td>00002.d94f1b97e48ed3b553b3508d116e6a09</td>\n",
       "    </tr>\n",
       "    <tr>\n",
       "      <th>2</th>\n",
       "      <td>1) Fight The Risk of Cancer!\\n\\nhttp://www.adc...</td>\n",
       "      <td>1</td>\n",
       "      <td>00003.2ee33bc6eacdb11f38d052c44819ba6c</td>\n",
       "    </tr>\n",
       "    <tr>\n",
       "      <th>3</th>\n",
       "      <td>##############################################...</td>\n",
       "      <td>1</td>\n",
       "      <td>00004.eac8de8d759b7e74154f142194282724</td>\n",
       "    </tr>\n",
       "    <tr>\n",
       "      <th>4</th>\n",
       "      <td>I thought you might like these:\\n\\n1) Slim Dow...</td>\n",
       "      <td>1</td>\n",
       "      <td>00005.57696a39d7d84318ce497886896bf90d</td>\n",
       "    </tr>\n",
       "    <tr>\n",
       "      <th>...</th>\n",
       "      <td>...</td>\n",
       "      <td>...</td>\n",
       "      <td>...</td>\n",
       "    </tr>\n",
       "    <tr>\n",
       "      <th>5793</th>\n",
       "      <td>http://news.bbc.co.uk/1/hi/england/2515127.stm...</td>\n",
       "      <td>0</td>\n",
       "      <td>01396.61983fbe6ec43f55fd44e30fce24ffa6</td>\n",
       "    </tr>\n",
       "    <tr>\n",
       "      <th>5794</th>\n",
       "      <td>&gt; &gt;-- be careful when using this one.) Also, t...</td>\n",
       "      <td>0</td>\n",
       "      <td>01397.9f9ef4c2a8dc012d80f2ce2d3473d3b7</td>\n",
       "    </tr>\n",
       "    <tr>\n",
       "      <th>5795</th>\n",
       "      <td>&gt;&gt;&gt;&gt;&gt; \"SM\" == Skip Montanaro &lt;skip@pobox.com&gt; ...</td>\n",
       "      <td>0</td>\n",
       "      <td>01398.169b51731fe569f42169ae8f948ec676</td>\n",
       "    </tr>\n",
       "    <tr>\n",
       "      <th>5796</th>\n",
       "      <td>So then, \"Mark Hammond\" &lt;mhammond@skippinet.co...</td>\n",
       "      <td>0</td>\n",
       "      <td>01399.ca6b00b7b341bbde9a9ea3dd6a7bf896</td>\n",
       "    </tr>\n",
       "    <tr>\n",
       "      <th>5797</th>\n",
       "      <td>Hi there,\\n\\n\\n\\nNow this is probably of no us...</td>\n",
       "      <td>0</td>\n",
       "      <td>01400.f897f0931e461e7b2e964d28e927c35e</td>\n",
       "    </tr>\n",
       "  </tbody>\n",
       "</table>\n",
       "<p>5798 rows × 3 columns</p>\n",
       "</div>"
      ],
      "text/plain": [
       "                                                MESSAGE  CATEGORY  \\\n",
       "0     <!DOCTYPE HTML PUBLIC \"-//W3C//DTD HTML 4.0 Tr...         1   \n",
       "1     1) Fight The Risk of Cancer!\\n\\nhttp://www.adc...         1   \n",
       "2     1) Fight The Risk of Cancer!\\n\\nhttp://www.adc...         1   \n",
       "3     ##############################################...         1   \n",
       "4     I thought you might like these:\\n\\n1) Slim Dow...         1   \n",
       "...                                                 ...       ...   \n",
       "5793  http://news.bbc.co.uk/1/hi/england/2515127.stm...         0   \n",
       "5794  > >-- be careful when using this one.) Also, t...         0   \n",
       "5795  >>>>> \"SM\" == Skip Montanaro <skip@pobox.com> ...         0   \n",
       "5796  So then, \"Mark Hammond\" <mhammond@skippinet.co...         0   \n",
       "5797  Hi there,\\n\\n\\n\\nNow this is probably of no us...         0   \n",
       "\n",
       "                                   FILE_NAME  \n",
       "0     00001.7848dde101aa985090474a91ec93fcf0  \n",
       "1     00002.d94f1b97e48ed3b553b3508d116e6a09  \n",
       "2     00003.2ee33bc6eacdb11f38d052c44819ba6c  \n",
       "3     00004.eac8de8d759b7e74154f142194282724  \n",
       "4     00005.57696a39d7d84318ce497886896bf90d  \n",
       "...                                      ...  \n",
       "5793  01396.61983fbe6ec43f55fd44e30fce24ffa6  \n",
       "5794  01397.9f9ef4c2a8dc012d80f2ce2d3473d3b7  \n",
       "5795  01398.169b51731fe569f42169ae8f948ec676  \n",
       "5796  01399.ca6b00b7b341bbde9a9ea3dd6a7bf896  \n",
       "5797  01400.f897f0931e461e7b2e964d28e927c35e  \n",
       "\n",
       "[5798 rows x 3 columns]"
      ]
     },
     "execution_count": 17,
     "metadata": {},
     "output_type": "execute_result"
    }
   ],
   "source": [
    "data"
   ]
  },
  {
   "cell_type": "code",
   "execution_count": 18,
   "id": "b5c134cb",
   "metadata": {},
   "outputs": [],
   "source": [
    "data.sort_index(inplace = True)"
   ]
  },
  {
   "cell_type": "code",
   "execution_count": 19,
   "id": "5d8560a2",
   "metadata": {},
   "outputs": [
    {
     "data": {
      "text/html": [
       "<div>\n",
       "<style scoped>\n",
       "    .dataframe tbody tr th:only-of-type {\n",
       "        vertical-align: middle;\n",
       "    }\n",
       "\n",
       "    .dataframe tbody tr th {\n",
       "        vertical-align: top;\n",
       "    }\n",
       "\n",
       "    .dataframe thead th {\n",
       "        text-align: right;\n",
       "    }\n",
       "</style>\n",
       "<table border=\"1\" class=\"dataframe\">\n",
       "  <thead>\n",
       "    <tr style=\"text-align: right;\">\n",
       "      <th></th>\n",
       "      <th>MESSAGE</th>\n",
       "      <th>CATEGORY</th>\n",
       "      <th>FILE_NAME</th>\n",
       "    </tr>\n",
       "  </thead>\n",
       "  <tbody>\n",
       "    <tr>\n",
       "      <th>0</th>\n",
       "      <td>&lt;!DOCTYPE HTML PUBLIC \"-//W3C//DTD HTML 4.0 Tr...</td>\n",
       "      <td>1</td>\n",
       "      <td>00001.7848dde101aa985090474a91ec93fcf0</td>\n",
       "    </tr>\n",
       "    <tr>\n",
       "      <th>1</th>\n",
       "      <td>1) Fight The Risk of Cancer!\\n\\nhttp://www.adc...</td>\n",
       "      <td>1</td>\n",
       "      <td>00002.d94f1b97e48ed3b553b3508d116e6a09</td>\n",
       "    </tr>\n",
       "    <tr>\n",
       "      <th>2</th>\n",
       "      <td>1) Fight The Risk of Cancer!\\n\\nhttp://www.adc...</td>\n",
       "      <td>1</td>\n",
       "      <td>00003.2ee33bc6eacdb11f38d052c44819ba6c</td>\n",
       "    </tr>\n",
       "    <tr>\n",
       "      <th>3</th>\n",
       "      <td>##############################################...</td>\n",
       "      <td>1</td>\n",
       "      <td>00004.eac8de8d759b7e74154f142194282724</td>\n",
       "    </tr>\n",
       "    <tr>\n",
       "      <th>4</th>\n",
       "      <td>I thought you might like these:\\n\\n1) Slim Dow...</td>\n",
       "      <td>1</td>\n",
       "      <td>00005.57696a39d7d84318ce497886896bf90d</td>\n",
       "    </tr>\n",
       "    <tr>\n",
       "      <th>...</th>\n",
       "      <td>...</td>\n",
       "      <td>...</td>\n",
       "      <td>...</td>\n",
       "    </tr>\n",
       "    <tr>\n",
       "      <th>5793</th>\n",
       "      <td>http://news.bbc.co.uk/1/hi/england/2515127.stm...</td>\n",
       "      <td>0</td>\n",
       "      <td>01396.61983fbe6ec43f55fd44e30fce24ffa6</td>\n",
       "    </tr>\n",
       "    <tr>\n",
       "      <th>5794</th>\n",
       "      <td>&gt; &gt;-- be careful when using this one.) Also, t...</td>\n",
       "      <td>0</td>\n",
       "      <td>01397.9f9ef4c2a8dc012d80f2ce2d3473d3b7</td>\n",
       "    </tr>\n",
       "    <tr>\n",
       "      <th>5795</th>\n",
       "      <td>&gt;&gt;&gt;&gt;&gt; \"SM\" == Skip Montanaro &lt;skip@pobox.com&gt; ...</td>\n",
       "      <td>0</td>\n",
       "      <td>01398.169b51731fe569f42169ae8f948ec676</td>\n",
       "    </tr>\n",
       "    <tr>\n",
       "      <th>5796</th>\n",
       "      <td>So then, \"Mark Hammond\" &lt;mhammond@skippinet.co...</td>\n",
       "      <td>0</td>\n",
       "      <td>01399.ca6b00b7b341bbde9a9ea3dd6a7bf896</td>\n",
       "    </tr>\n",
       "    <tr>\n",
       "      <th>5797</th>\n",
       "      <td>Hi there,\\n\\n\\n\\nNow this is probably of no us...</td>\n",
       "      <td>0</td>\n",
       "      <td>01400.f897f0931e461e7b2e964d28e927c35e</td>\n",
       "    </tr>\n",
       "  </tbody>\n",
       "</table>\n",
       "<p>5798 rows × 3 columns</p>\n",
       "</div>"
      ],
      "text/plain": [
       "                                                MESSAGE  CATEGORY  \\\n",
       "0     <!DOCTYPE HTML PUBLIC \"-//W3C//DTD HTML 4.0 Tr...         1   \n",
       "1     1) Fight The Risk of Cancer!\\n\\nhttp://www.adc...         1   \n",
       "2     1) Fight The Risk of Cancer!\\n\\nhttp://www.adc...         1   \n",
       "3     ##############################################...         1   \n",
       "4     I thought you might like these:\\n\\n1) Slim Dow...         1   \n",
       "...                                                 ...       ...   \n",
       "5793  http://news.bbc.co.uk/1/hi/england/2515127.stm...         0   \n",
       "5794  > >-- be careful when using this one.) Also, t...         0   \n",
       "5795  >>>>> \"SM\" == Skip Montanaro <skip@pobox.com> ...         0   \n",
       "5796  So then, \"Mark Hammond\" <mhammond@skippinet.co...         0   \n",
       "5797  Hi there,\\n\\n\\n\\nNow this is probably of no us...         0   \n",
       "\n",
       "                                   FILE_NAME  \n",
       "0     00001.7848dde101aa985090474a91ec93fcf0  \n",
       "1     00002.d94f1b97e48ed3b553b3508d116e6a09  \n",
       "2     00003.2ee33bc6eacdb11f38d052c44819ba6c  \n",
       "3     00004.eac8de8d759b7e74154f142194282724  \n",
       "4     00005.57696a39d7d84318ce497886896bf90d  \n",
       "...                                      ...  \n",
       "5793  01396.61983fbe6ec43f55fd44e30fce24ffa6  \n",
       "5794  01397.9f9ef4c2a8dc012d80f2ce2d3473d3b7  \n",
       "5795  01398.169b51731fe569f42169ae8f948ec676  \n",
       "5796  01399.ca6b00b7b341bbde9a9ea3dd6a7bf896  \n",
       "5797  01400.f897f0931e461e7b2e964d28e927c35e  \n",
       "\n",
       "[5798 rows x 3 columns]"
      ]
     },
     "execution_count": 19,
     "metadata": {},
     "output_type": "execute_result"
    }
   ],
   "source": [
    "data"
   ]
  },
  {
   "cell_type": "code",
   "execution_count": 20,
   "id": "8e6288a6",
   "metadata": {},
   "outputs": [
    {
     "data": {
      "text/plain": [
       "(5798, 3)"
      ]
     },
     "execution_count": 20,
     "metadata": {},
     "output_type": "execute_result"
    }
   ],
   "source": [
    "data.shape"
   ]
  },
  {
   "cell_type": "code",
   "execution_count": 21,
   "id": "fc71a696",
   "metadata": {},
   "outputs": [],
   "source": [
    "my_vector = vectorizer.fit_transform(data.MESSAGE)"
   ]
  },
  {
   "cell_type": "code",
   "execution_count": 22,
   "id": "df12e478",
   "metadata": {},
   "outputs": [
    {
     "data": {
      "text/plain": [
       "<5798x102694 sparse matrix of type '<class 'numpy.int64'>'\n",
       "\twith 704868 stored elements in Compressed Sparse Row format>"
      ]
     },
     "execution_count": 22,
     "metadata": {},
     "output_type": "execute_result"
    }
   ],
   "source": [
    "my_vector"
   ]
  },
  {
   "cell_type": "code",
   "execution_count": 23,
   "id": "ff2db1b2",
   "metadata": {},
   "outputs": [
    {
     "data": {
      "text/plain": [
       "(5798, 102694)"
      ]
     },
     "execution_count": 23,
     "metadata": {},
     "output_type": "execute_result"
    }
   ],
   "source": [
    "my_vector.shape"
   ]
  },
  {
   "cell_type": "code",
   "execution_count": 24,
   "id": "0c773004",
   "metadata": {},
   "outputs": [],
   "source": [
    "from sklearn.model_selection import train_test_split"
   ]
  },
  {
   "cell_type": "code",
   "execution_count": 26,
   "id": "396cceaa",
   "metadata": {},
   "outputs": [],
   "source": [
    "x_train,x_test,y_train,y_test = train_test_split(my_vector, data.CATEGORY, test_size = 0.3, random_state = 45)\n",
    "                       # x values are => vector value\n",
    "                             # y values are => category (either it is ham or spam..... 0  or  1)"
   ]
  },
  {
   "cell_type": "code",
   "execution_count": 27,
   "id": "b02fee85",
   "metadata": {},
   "outputs": [],
   "source": [
    "from sklearn.naive_bayes import MultinomialNB"
   ]
  },
  {
   "cell_type": "code",
   "execution_count": 29,
   "id": "ff81f8cb",
   "metadata": {},
   "outputs": [],
   "source": [
    "classifier = MultinomialNB()"
   ]
  },
  {
   "cell_type": "code",
   "execution_count": 30,
   "id": "62dc8d72",
   "metadata": {},
   "outputs": [
    {
     "data": {
      "text/plain": [
       "MultinomialNB()"
      ]
     },
     "execution_count": 30,
     "metadata": {},
     "output_type": "execute_result"
    }
   ],
   "source": [
    "classifier.fit(x_train,y_train)"
   ]
  },
  {
   "cell_type": "code",
   "execution_count": 32,
   "id": "ccd81aff",
   "metadata": {},
   "outputs": [
    {
     "data": {
      "text/plain": [
       "1633"
      ]
     },
     "execution_count": 32,
     "metadata": {},
     "output_type": "execute_result"
    }
   ],
   "source": [
    "num_correct = (y_test == classifier.predict(x_test)).sum()\n",
    "num_correct"
   ]
  },
  {
   "cell_type": "code",
   "execution_count": 33,
   "id": "648d78e3",
   "metadata": {},
   "outputs": [
    {
     "data": {
      "text/plain": [
       "107"
      ]
     },
     "execution_count": 33,
     "metadata": {},
     "output_type": "execute_result"
    }
   ],
   "source": [
    "num_incorrect = (y_test != classifier.predict(x_test)).sum()\n",
    "num_incorrect"
   ]
  },
  {
   "cell_type": "code",
   "execution_count": 35,
   "id": "faacd054",
   "metadata": {},
   "outputs": [
    {
     "data": {
      "text/plain": [
       "0.9385057471264368"
      ]
     },
     "execution_count": 35,
     "metadata": {},
     "output_type": "execute_result"
    }
   ],
   "source": [
    "num_correct/x_test.shape[0]"
   ]
  },
  {
   "cell_type": "code",
   "execution_count": 36,
   "id": "2a6829bc",
   "metadata": {},
   "outputs": [
    {
     "data": {
      "text/plain": [
       "0.06149425287356322"
      ]
     },
     "execution_count": 36,
     "metadata": {},
     "output_type": "execute_result"
    }
   ],
   "source": [
    "num_incorrect/x_test.shape[0]"
   ]
  },
  {
   "cell_type": "code",
   "execution_count": 38,
   "id": "7b7fe551",
   "metadata": {},
   "outputs": [],
   "source": [
    "from sklearn.metrics import recall_score,precision_score,f1_score"
   ]
  },
  {
   "cell_type": "code",
   "execution_count": 39,
   "id": "017e2648",
   "metadata": {},
   "outputs": [
    {
     "data": {
      "text/plain": [
       "0.82996632996633"
      ]
     },
     "execution_count": 39,
     "metadata": {},
     "output_type": "execute_result"
    }
   ],
   "source": [
    "recall_score(y_test, classifier.predict(x_test))"
   ]
  },
  {
   "cell_type": "code",
   "execution_count": 40,
   "id": "6b88584d",
   "metadata": {},
   "outputs": [
    {
     "data": {
      "text/plain": [
       "0.9879759519038076"
      ]
     },
     "execution_count": 40,
     "metadata": {},
     "output_type": "execute_result"
    }
   ],
   "source": [
    "precision_score(y_test, classifier.predict(x_test))"
   ]
  },
  {
   "cell_type": "code",
   "execution_count": 41,
   "id": "15581f59",
   "metadata": {},
   "outputs": [
    {
     "data": {
      "text/plain": [
       "0.9021043000914913"
      ]
     },
     "execution_count": 41,
     "metadata": {},
     "output_type": "execute_result"
    }
   ],
   "source": [
    "f1_score(y_test, classifier.predict(x_test))"
   ]
  },
  {
   "cell_type": "markdown",
   "id": "2fbcf0a1",
   "metadata": {},
   "source": [
    "## Lets test our model"
   ]
  },
  {
   "cell_type": "markdown",
   "id": "66a66d50",
   "metadata": {},
   "source": [
    "### Example 1"
   ]
  },
  {
   "cell_type": "code",
   "execution_count": 46,
   "id": "cb842319",
   "metadata": {},
   "outputs": [],
   "source": [
    "example = ['Hello friend do you want a free loan? ' , 'congratulations you have won a lottery', ' How are you father']"
   ]
  },
  {
   "cell_type": "code",
   "execution_count": 47,
   "id": "cc61771e",
   "metadata": {},
   "outputs": [],
   "source": [
    "document_terms =vectorizer.transform(example) "
   ]
  },
  {
   "cell_type": "code",
   "execution_count": 48,
   "id": "e57611f8",
   "metadata": {},
   "outputs": [
    {
     "data": {
      "text/plain": [
       "array([1, 1, 0], dtype=int64)"
      ]
     },
     "execution_count": 48,
     "metadata": {},
     "output_type": "execute_result"
    }
   ],
   "source": [
    "classifier.predict(document_terms)"
   ]
  },
  {
   "cell_type": "markdown",
   "id": "94cc7940",
   "metadata": {},
   "source": [
    "### Example 2"
   ]
  },
  {
   "cell_type": "code",
   "execution_count": 49,
   "id": "80c78e5e",
   "metadata": {},
   "outputs": [],
   "source": [
    "example_1 = ['Are you going to school? ' , 'congratulations, you got a job', ' How are you feeling']"
   ]
  },
  {
   "cell_type": "code",
   "execution_count": 51,
   "id": "2231ed8f",
   "metadata": {},
   "outputs": [],
   "source": [
    "document_terms =vectorizer.transform(example_1)"
   ]
  },
  {
   "cell_type": "code",
   "execution_count": 52,
   "id": "6149e127",
   "metadata": {},
   "outputs": [
    {
     "data": {
      "text/plain": [
       "array([0, 0, 0], dtype=int64)"
      ]
     },
     "execution_count": 52,
     "metadata": {},
     "output_type": "execute_result"
    }
   ],
   "source": [
    "classifier.predict(document_terms)"
   ]
  },
  {
   "cell_type": "code",
   "execution_count": null,
   "id": "af5bd45c",
   "metadata": {},
   "outputs": [],
   "source": []
  }
 ],
 "metadata": {
  "kernelspec": {
   "display_name": "Python 3 (ipykernel)",
   "language": "python",
   "name": "python3"
  },
  "language_info": {
   "codemirror_mode": {
    "name": "ipython",
    "version": 3
   },
   "file_extension": ".py",
   "mimetype": "text/x-python",
   "name": "python",
   "nbconvert_exporter": "python",
   "pygments_lexer": "ipython3",
   "version": "3.9.13"
  }
 },
 "nbformat": 4,
 "nbformat_minor": 5
}
